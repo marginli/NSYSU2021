{
  "nbformat": 4,
  "nbformat_minor": 0,
  "metadata": {
    "colab": {
      "name": "visualization.ipynb",
      "provenance": [],
      "authorship_tag": "ABX9TyNEEev7Asn6mrHh638NANk9",
      "include_colab_link": true
    },
    "kernelspec": {
      "name": "python3",
      "display_name": "Python 3"
    },
    "language_info": {
      "name": "python"
    }
  },
  "cells": [
    {
      "cell_type": "markdown",
      "metadata": {
        "id": "view-in-github",
        "colab_type": "text"
      },
      "source": [
        "<a href=\"https://colab.research.google.com/github/marginli/NSYSU2021/blob/main/visualization.ipynb\" target=\"_parent\"><img src=\"https://colab.research.google.com/assets/colab-badge.svg\" alt=\"Open In Colab\"/></a>"
      ]
    },
    {
      "cell_type": "code",
      "metadata": {
        "colab": {
          "base_uri": "https://localhost:8080/"
        },
        "id": "GZiq-OZMgtaE",
        "outputId": "900906f9-863d-4a1d-cf83-6e8bfdd7debb"
      },
      "source": [
        "from google.colab import drive\n",
        "drive.mount('/content/gdrive')"
      ],
      "execution_count": 2,
      "outputs": [
        {
          "output_type": "stream",
          "name": "stdout",
          "text": [
            "Mounted at /content/gdrive\n"
          ]
        }
      ]
    },
    {
      "cell_type": "code",
      "metadata": {
        "id": "ByTlConxhGP9"
      },
      "source": [
        "import numpy as np\n",
        "import matplotlib.pyplot as plt"
      ],
      "execution_count": 3,
      "outputs": []
    },
    {
      "cell_type": "code",
      "metadata": {
        "id": "kt0Rohr5hQoq"
      },
      "source": [
        "# plot a curve and save the figure\n",
        "ex_data=np.loadtxt(\"https://raw.githubusercontent.com/marginli/NSYSU2021/main/external_file.txt\") # loading txt files from an online URL\n",
        "#ex_data=np.loadtxt(\"external_file.txt\") #loading local txt files\n",
        "print(ex_data.shape)\n",
        "plt.plot(ex_data[:,0],ex_data[:,1])\n",
        "plt.savefig(\"/content/gdrive/MyDrive/NSYSU2021/test.pdf\")\n",
        "plt.show()"
      ],
      "execution_count": null,
      "outputs": []
    },
    {
      "cell_type": "code",
      "metadata": {
        "id": "c9CCO2Geh2mj"
      },
      "source": [
        "# plot more curves\n",
        "x=np.arange(0,20,0.1)\n",
        "y=np.sin(x)\n",
        "y1=np.cos(x)\n",
        "plt.plot(x,y)\n",
        "plt.plot(x,y1)\n",
        "plt.show()"
      ],
      "execution_count": null,
      "outputs": []
    },
    {
      "cell_type": "code",
      "metadata": {
        "id": "WItgmQ1KiC6p"
      },
      "source": [
        "# legend and labels\n",
        "x=np.arange(0,20,0.1)\n",
        "y=np.sin(x)\n",
        "y1=np.cos(x)\n",
        "plt.plot(x,y,label=\"sin(x)\")\n",
        "plt.plot(x,y1,label=\"cos(x)\")\n",
        "plt.legend()\n",
        "plt.xlabel(\"x\")\n",
        "plt.ylabel(\"f(x)\")\n",
        "plt.show()"
      ],
      "execution_count": null,
      "outputs": []
    },
    {
      "cell_type": "code",
      "metadata": {
        "id": "919eMH72iJ7w"
      },
      "source": [
        "# plot a vector field\n",
        "import matplotlib.pyplot as plt\n",
        "import numpy as np\n",
        "\n",
        "X = np.arange(-10, 10, 1)\n",
        "Y = np.arange(-10, 10, 1)\n",
        "U, V = np.meshgrid(X, Y)\n",
        "\n",
        "fig, ax = plt.subplots()\n",
        "q = ax.quiver(X, Y, U, V)\n",
        "ax.quiverkey(q, X=0.3, Y=1.1, U=10,\n",
        "             label='Quiver key, length = 10', labelpos='E')\n",
        "\n",
        "plt.show()"
      ],
      "execution_count": null,
      "outputs": []
    }
  ]
}