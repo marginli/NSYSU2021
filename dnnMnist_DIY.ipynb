{
  "nbformat": 4,
  "nbformat_minor": 0,
  "metadata": {
    "colab": {
      "name": "dnnMnist-DIY.ipynb",
      "provenance": [],
      "collapsed_sections": [],
      "authorship_tag": "ABX9TyNLdVTUwO/qTMmlZUrYiJtB",
      "include_colab_link": true
    },
    "kernelspec": {
      "name": "python3",
      "display_name": "Python 3"
    },
    "language_info": {
      "name": "python"
    }
  },
  "cells": [
    {
      "cell_type": "markdown",
      "metadata": {
        "id": "view-in-github",
        "colab_type": "text"
      },
      "source": [
        "<a href=\"https://colab.research.google.com/github/marginli/NSYSU2021/blob/main/dnnMnist_DIY.ipynb\" target=\"_parent\"><img src=\"https://colab.research.google.com/assets/colab-badge.svg\" alt=\"Open In Colab\"/></a>"
      ]
    },
    {
      "cell_type": "code",
      "metadata": {
        "id": "8VqPENCYi81S"
      },
      "source": [
        "from google.colab import drive\n",
        "drive.mount('/content/gdrive')"
      ],
      "execution_count": null,
      "outputs": []
    },
    {
      "cell_type": "code",
      "metadata": {
        "id": "BkDKVhLfjIVm"
      },
      "source": [
        "from tensorflow.keras.datasets import mnist\n",
        "from tensorflow.keras import models\n",
        "from tensorflow.keras import layers\n",
        "from tensorflow.keras.utils import to_categorical\n",
        "import matplotlib.pyplot as plt"
      ],
      "execution_count": 3,
      "outputs": []
    },
    {
      "cell_type": "code",
      "metadata": {
        "id": "F6_mxE-DjMiw"
      },
      "source": [
        "(train_images, train_labels), (test_images, test_labels) = mnist.load_data()"
      ],
      "execution_count": null,
      "outputs": []
    },
    {
      "cell_type": "code",
      "metadata": {
        "id": "nE4f6xJ4jQmI"
      },
      "source": [
        "#plot an example\n",
        "digit = train_images[4]\n",
        "plt.imshow(digit, cmap=plt.cm.binary)\n",
        "plt.show()"
      ],
      "execution_count": null,
      "outputs": []
    },
    {
      "cell_type": "code",
      "metadata": {
        "id": "u3wl19fXjWtt"
      },
      "source": [
        "network = models.Sequential()\n",
        "network.add(layers.Dense(512, activation='relu', input_shape=(28 * 28,)))\n",
        "network.add(layers.Dense(10, activation='softmax'))"
      ],
      "execution_count": null,
      "outputs": []
    },
    {
      "cell_type": "code",
      "metadata": {
        "id": "OO_v_7bnjabH"
      },
      "source": [
        "network.compile(optimizer='rmsprop',loss='categorical_crossentropy',metrics=['accuracy'])"
      ],
      "execution_count": null,
      "outputs": []
    },
    {
      "cell_type": "code",
      "metadata": {
        "id": "BMGm4twSjeEF"
      },
      "source": [
        "train_images = train_images.reshape((60000, 28 * 28))\n",
        "train_images = train_images.astype('float32') / 255\n",
        "test_images = test_images.reshape((10000, 28 * 28))\n",
        "test_images = test_images.astype('float32') / 255"
      ],
      "execution_count": null,
      "outputs": []
    },
    {
      "cell_type": "code",
      "metadata": {
        "id": "4nkLKoobjiFI"
      },
      "source": [
        "train_labels = to_categorical(train_labels)\n",
        "test_labels = to_categorical(test_labels)"
      ],
      "execution_count": null,
      "outputs": []
    },
    {
      "cell_type": "code",
      "metadata": {
        "id": "sJrc9a95jk62"
      },
      "source": [
        "history=network.fit(train_images, train_labels, epochs=5, batch_size=128)"
      ],
      "execution_count": null,
      "outputs": []
    },
    {
      "cell_type": "code",
      "metadata": {
        "id": "mD-ZxU_rjoMg"
      },
      "source": [
        "test_loss, test_acc = network.evaluate(test_images, test_labels)\n",
        "print('test_acc:', test_acc)"
      ],
      "execution_count": null,
      "outputs": []
    },
    {
      "cell_type": "code",
      "source": [
        "#in-class demo 5 (added on 2021/12/3)\n",
        "from PIL import Image\n",
        "import numpy as np"
      ],
      "metadata": {
        "id": "llkAEQ3cv054"
      },
      "execution_count": null,
      "outputs": []
    },
    {
      "cell_type": "code",
      "source": [
        "imglist=[]\n",
        "WIDTH=28\n",
        "HEIGHT=28\n",
        "for ii in range(10):\n",
        "    imgt=Image.open(\"/content/gdrive/MyDrive/workshop 2021Dec/WJLm-\"+str(ii)+\".png\").convert('L')\n",
        "    re_imgt=imgt.resize((WIDTH, HEIGHT))\n",
        "    imgt_s=re_imgt.getdata()\n",
        "#    imgt_array1=np. array(imgt_s).reshape((WIDTH,HEIGHT))/256 #for CNN\n",
        "#    plt.imshow((imgt_array1-1)*(-1), cmap=plt.cm.binary)\n",
        "#    plt.show()   \n",
        "    imgt_array=np.array(imgt_s)/256\n",
        "    imgt_array=(imgt_array-1)*(-1)\n",
        "    imgt_array=(imgt_array-np.amin(imgt_array))/(np.amax(imgt_array)-np.amin(imgt_array))\n",
        "    plt.imshow(imgt_array.reshape((WIDTH,HEIGHT)), cmap=plt.cm.binary)\n",
        "    plt.show()\n",
        "    imglist.append(imgt_array)\n",
        "img_np=np.array(imglist)\n",
        "#network.predict_classes(img_np)\n",
        "np.argmax(network.predict(img_np),axis=-1)"
      ],
      "metadata": {
        "id": "6V_ljQiZwDdK"
      },
      "execution_count": null,
      "outputs": []
    }
  ]
}