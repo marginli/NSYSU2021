{
  "nbformat": 4,
  "nbformat_minor": 0,
  "metadata": {
    "colab": {
      "name": "visualization-practice.ipynb",
      "provenance": [],
      "authorship_tag": "ABX9TyNyH062OxhXjlXW0/zpGA27",
      "include_colab_link": true
    },
    "kernelspec": {
      "name": "python3",
      "display_name": "Python 3"
    },
    "language_info": {
      "name": "python"
    }
  },
  "cells": [
    {
      "cell_type": "markdown",
      "metadata": {
        "id": "view-in-github",
        "colab_type": "text"
      },
      "source": [
        "<a href=\"https://colab.research.google.com/github/marginli/NSYSU2021/blob/main/visualization_practice.ipynb\" target=\"_parent\"><img src=\"https://colab.research.google.com/assets/colab-badge.svg\" alt=\"Open In Colab\"/></a>"
      ]
    },
    {
      "cell_type": "code",
      "metadata": {
        "id": "kIdF3zQHm_Rf"
      },
      "source": [
        "from google.colab import drive\n",
        "drive.mount('/content/gdrive')"
      ],
      "execution_count": null,
      "outputs": []
    },
    {
      "cell_type": "code",
      "metadata": {
        "id": "t38cOIQ3npH8"
      },
      "source": [
        "import numpy as np\n",
        "import matplotlib.pyplot as plt"
      ],
      "execution_count": null,
      "outputs": []
    },
    {
      "cell_type": "code",
      "metadata": {
        "id": "it8HhleWnswL"
      },
      "source": [
        "# plot a curve and save the figure\n",
        "ex_data=np.loadtxt(\"https://raw.githubusercontent.com/marginli/NSYSU2021/main/external_file.txt\") \n",
        "# loading txt files from an online URL\n",
        "#ex_data=np.loadtxt(\"external_file.txt\") #loading local txt files\n",
        "print(ex_data.shape)\n",
        "plt.plot(ex_data[:,0],ex_data[:,1])\n",
        "plt.savefig(\"/content/gdrive/MyDrive/NSYSU2021/test.pdf\")\n",
        "plt.show()"
      ],
      "execution_count": null,
      "outputs": []
    },
    {
      "cell_type": "code",
      "metadata": {
        "id": "32BFq95JoFGF"
      },
      "source": [
        "##change the scale\n",
        "x=np.arange(0,10,0.1)\n",
        "y=np.exp(x)\n",
        "plt.plot(x,y)\n",
        "plt.yscale(\"log\")\n",
        "plt.show()"
      ],
      "execution_count": null,
      "outputs": []
    },
    {
      "cell_type": "code",
      "metadata": {
        "id": "Yac57BP-oOzT"
      },
      "source": [
        "# plot more curves\n",
        "x=np.arange(0,20,0.1)\n",
        "y=np.sin(x)\n",
        "y1=np.cos(x)\n",
        "plt.plot(x,y)\n",
        "plt.plot(x,y1)\n",
        "plt.show()"
      ],
      "execution_count": null,
      "outputs": []
    },
    {
      "cell_type": "code",
      "metadata": {
        "id": "f5HrAnzgoQhC"
      },
      "source": [
        "## add more features\n",
        "x=np.arange(0,20,0.1)\n",
        "y=np.sin(x)\n",
        "y1=np.cos(x)\n",
        "y2=np.cos(2*x)\n",
        "plt.plot(x,y,\"bo\")# blue circle marker\n",
        "plt.plot(x,y1,color='green', linestyle='dashed', linewidth=2)\n",
        "plt.plot(x,y2,color='red', marker='+', markersize=8)\n",
        "plt.show()"
      ],
      "execution_count": null,
      "outputs": []
    },
    {
      "cell_type": "code",
      "metadata": {
        "id": "NfukhK7qoVyu"
      },
      "source": [
        "# legend and labels\n",
        "x=np.arange(0,20,0.1)\n",
        "y=np.sin(x)\n",
        "y1=np.cos(x)\n",
        "plt.plot(x,y,label=\"sin(x)\")\n",
        "plt.plot(x,y1,label=\"cos(x)\")\n",
        "plt.legend()\n",
        "plt.xlabel(\"x\")\n",
        "plt.ylabel(\"f(x)\")\n",
        "plt.show()"
      ],
      "execution_count": null,
      "outputs": []
    },
    {
      "cell_type": "code",
      "metadata": {
        "id": "cwhzzY84obOy"
      },
      "source": [
        "## more in legend\n",
        "x=np.arange(0,20,0.1)\n",
        "y=np.sin(x)\n",
        "y1=np.cos(x)\n",
        "plt.plot(x,y,label=\"sin(x)\")\n",
        "plt.plot(x,y1,label=\"cos(x)\")\n",
        "plt.legend(loc='upper right', shadow=True, fontsize='large') \n",
        "# int or {'xx-small', 'x-small', 'small', 'medium', 'large', 'x-large', 'xx-large'}\n",
        "plt.xlabel(\"x\")\n",
        "plt.ylabel(\"f(x)\")\n",
        "plt.show()"
      ],
      "execution_count": null,
      "outputs": []
    },
    {
      "cell_type": "code",
      "metadata": {
        "id": "KFlKiNUPojLg"
      },
      "source": [
        "## Latex and position of labels in Matplotlib\n",
        "x=np.arange(0,20,0.1)\n",
        "y=np.sin(x)\n",
        "y1=np.cos(x)\n",
        "plt.plot(x,y,label=\"imaginary part of $e^{ix}$\")\n",
        "plt.plot(x,y1,label=\"real part of $e^{ix}$\")\n",
        "plt.legend()\n",
        "#plt.xlabel(\"x\",loc=\"right\")\n",
        "#plt.ylabel(\"f(x)\",loc=\"top\")\n",
        "plt.show()"
      ],
      "execution_count": null,
      "outputs": []
    },
    {
      "cell_type": "code",
      "metadata": {
        "id": "k7fnJXsSp4Yi"
      },
      "source": [
        ""
      ],
      "execution_count": null,
      "outputs": []
    }
  ]
}