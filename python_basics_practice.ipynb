{
  "nbformat": 4,
  "nbformat_minor": 0,
  "metadata": {
    "colab": {
      "name": "python-basics-practice.ipynb",
      "provenance": [],
      "authorship_tag": "ABX9TyMeq4ea+8DPxF7s0IZLPc9A",
      "include_colab_link": true
    },
    "kernelspec": {
      "name": "python3",
      "display_name": "Python 3"
    },
    "language_info": {
      "name": "python"
    }
  },
  "cells": [
    {
      "cell_type": "markdown",
      "metadata": {
        "id": "view-in-github",
        "colab_type": "text"
      },
      "source": [
        "<a href=\"https://colab.research.google.com/github/marginli/NSYSU2021/blob/main/python_basics_practice.ipynb\" target=\"_parent\"><img src=\"https://colab.research.google.com/assets/colab-badge.svg\" alt=\"Open In Colab\"/></a>"
      ]
    },
    {
      "cell_type": "code",
      "metadata": {
        "id": "yL74RwzmOa12"
      },
      "source": [
        "# magnitude of a 3D vector"
      ],
      "execution_count": null,
      "outputs": []
    },
    {
      "cell_type": "code",
      "metadata": {
        "id": "3RxFFOQCeFKh"
      },
      "source": [
        "x=1.0"
      ],
      "execution_count": null,
      "outputs": []
    },
    {
      "cell_type": "code",
      "metadata": {
        "id": "bShkyjTgeBu6",
        "colab": {
          "base_uri": "https://localhost:8080/"
        },
        "outputId": "31345c8b-b1dc-4a57-b4ab-77865ce77ad5"
      },
      "source": [
        "print(\"x component is\",x)"
      ],
      "execution_count": null,
      "outputs": [
        {
          "output_type": "stream",
          "name": "stdout",
          "text": [
            "x component is 1.0\n"
          ]
        }
      ]
    },
    {
      "cell_type": "code",
      "metadata": {
        "id": "4HKBSj1ceBnM"
      },
      "source": [
        "y=2.0"
      ],
      "execution_count": null,
      "outputs": []
    },
    {
      "cell_type": "code",
      "metadata": {
        "id": "JUhTDxxieBen",
        "colab": {
          "base_uri": "https://localhost:8080/"
        },
        "outputId": "67874868-8d53-4b68-ec70-c4450d879074"
      },
      "source": [
        "print(\"y component is\",y)"
      ],
      "execution_count": null,
      "outputs": [
        {
          "output_type": "stream",
          "name": "stdout",
          "text": [
            "y component is 2.0\n"
          ]
        }
      ]
    },
    {
      "cell_type": "code",
      "metadata": {
        "id": "G--FNj1teBV2"
      },
      "source": [
        "z=3.0"
      ],
      "execution_count": null,
      "outputs": []
    },
    {
      "cell_type": "code",
      "metadata": {
        "id": "GqEUQOPJeBF2",
        "colab": {
          "base_uri": "https://localhost:8080/"
        },
        "outputId": "a1ed49b9-b767-459f-93e7-e106213981c4"
      },
      "source": [
        "print(\"z component is\",z)"
      ],
      "execution_count": null,
      "outputs": [
        {
          "output_type": "stream",
          "name": "stdout",
          "text": [
            "z component is 3.0\n"
          ]
        }
      ]
    },
    {
      "cell_type": "code",
      "metadata": {
        "id": "bdo5zdVpeRKJ"
      },
      "source": [
        "r=pow(x**2+y**2+z**2,0.5)"
      ],
      "execution_count": null,
      "outputs": []
    },
    {
      "cell_type": "code",
      "metadata": {
        "id": "Oqx7Cf0iPh1u",
        "colab": {
          "base_uri": "https://localhost:8080/"
        },
        "outputId": "21e1abd7-e334-4e42-b45d-65b3974354b2"
      },
      "source": [
        "print(\"the magnitude of this vector is\",r)"
      ],
      "execution_count": null,
      "outputs": [
        {
          "output_type": "stream",
          "name": "stdout",
          "text": [
            "the magnitude of this vector is 3.7416573867739413\n"
          ]
        }
      ]
    },
    {
      "cell_type": "code",
      "metadata": {
        "id": "RL-bHtvMthba"
      },
      "source": [
        "## inner and outer product\n",
        "import numpy as np\n",
        "r0=np.array([x,y,z])\n",
        "r1=np.array([3.0,2.0,1.0])\n",
        "inn_prod=np.dot(r0,r1)\n",
        "print(\"the inner product is \",inn_prod)\n",
        "out_prod=np.outer(r0,r1)\n",
        "print(\"the outer product is \")\n",
        "print(out_prod)"
      ],
      "execution_count": null,
      "outputs": []
    },
    {
      "cell_type": "code",
      "metadata": {
        "id": "bFlAOviutmPn",
        "colab": {
          "base_uri": "https://localhost:8080/"
        },
        "outputId": "172d91e9-c09e-410d-e2e0-68465b699754"
      },
      "source": [
        "# moving right or left \n",
        "v=float(input(\"give me your velocity  :\"))\n",
        "if v>0:\n",
        "    print(\"moving right\")\n",
        "elif v<0:\n",
        "    print(\"moving left\")\n",
        "else :\n",
        "    print(\"not moving\")"
      ],
      "execution_count": null,
      "outputs": [
        {
          "output_type": "stream",
          "name": "stdout",
          "text": [
            "give me your velocity  :1\n",
            "moving right\n"
          ]
        }
      ]
    },
    {
      "cell_type": "code",
      "metadata": {
        "id": "6CuUYL15tvOS",
        "colab": {
          "base_uri": "https://localhost:8080/"
        },
        "outputId": "ba80d30e-b7f4-405c-99a4-c8cac2917c4e"
      },
      "source": [
        "## if + and : try vm=11,5,1. we can also try \"or\"\n",
        "vm=abs(float(input(\"tell me your velocity (m/s)  :\")))\n",
        "if vm>10 :\n",
        "    print(\"See you in the Olympics !!\")\n",
        "elif vm<=10 and vm>2:\n",
        "    print(\"You are running !!\")\n",
        "else :\n",
        "    print(\"Move faster!!\")"
      ],
      "execution_count": null,
      "outputs": [
        {
          "output_type": "stream",
          "name": "stdout",
          "text": [
            "tell me your velocity (m/s)  :5\n",
            "You are running !!\n"
          ]
        }
      ]
    },
    {
      "cell_type": "code",
      "metadata": {
        "id": "iy-gXhdzt2Kv"
      },
      "source": [
        "from numpy.random import random\n",
        "force=0.0\n",
        "ran_fric=random()# coefficient of static friction\n",
        "mass=1.0\n",
        "g=10.0\n",
        "while force<mass*g*ran_fric :\n",
        "    print(\"haha! you cannot move me!!\")\n",
        "    force_add=float(input(\"add some force!!\"))\n",
        "    force=force+force_add\n",
        "    print(\"the force so far is,\",force)\n",
        "print(\"Ah... you win...\")\n",
        "print(\"the friction coefficient is :\",ran_fric)\n",
        "print(\"the final force is \",force)\n",
        "print(\"the friction coefficient is less than :\",force/(mass*g))"
      ],
      "execution_count": null,
      "outputs": []
    },
    {
      "cell_type": "code",
      "metadata": {
        "id": "YXOzZP8Qt9a1"
      },
      "source": [
        "##break\n",
        "from numpy.random import random\n",
        "force=0.0\n",
        "ran_fric=random()\n",
        "mass=1.0\n",
        "g=10.0\n",
        "while force<mass*g*ran_fric :\n",
        "    print(\"haha! you cannot move me!!\")\n",
        "    force_add=float(input(\"add some force!!\"))\n",
        "    force=force+force_add\n",
        "    print(\"the force so far is,\",force)\n",
        "    if force_add <0:\n",
        "        print(\"are you kidding me?\")\n",
        "        break\n",
        "if force_add>0:\n",
        "    print(\"Ah... you win...\")\n",
        "    print(\"the friction coefficient is :\",ran_fric)\n",
        "    print(\"the final force is \",force)\n",
        "    print(\"the friction coefficient is less than :\",force/(mass*g))"
      ],
      "execution_count": null,
      "outputs": []
    },
    {
      "cell_type": "code",
      "metadata": {
        "id": "gl75l-gnuGS7"
      },
      "source": [
        "# calculating factorial\n",
        "n=int(input(\"give me an integer, I will give you the factorial \"))\n",
        "factorial=1\n",
        "for i in range(n):\n",
        "    factorial=factorial*(i+1)\n",
        "print(\"the value of\",n,\"!\",\"is\",factorial)"
      ],
      "execution_count": null,
      "outputs": []
    },
    {
      "cell_type": "code",
      "metadata": {
        "id": "pa92zb4GuMfC"
      },
      "source": [
        "## choose the integers to be multiplied\n",
        "your_list=[1,3,5,7,9]\n",
        "factorial_y=1\n",
        "for i1 in your_list:\n",
        "    factorial_y=factorial_y*i1\n",
        "print(\"the result is\",factorial_y)"
      ],
      "execution_count": null,
      "outputs": []
    },
    {
      "cell_type": "code",
      "metadata": {
        "id": "evgqtOw1ub6C"
      },
      "source": [
        "# load files\n",
        "import numpy as np\n",
        "ex_data=np.loadtxt(\"https://raw.githubusercontent.com/marginli/NSYSU2021/main/external_file.txt\") # loading txt files from an online URL\n",
        "#ex_data=np.loadtxt(\"external_file.txt\") #loading local txt files\n",
        "print(ex_data)\n",
        "## load a file from or export a file to your google drive : see the ppt\n",
        "## the download link : https://drive.google.com/file/d/1vVhQwwrWLvXECi6Zo5csYSrTdvYkwfky/view?usp=sharing"
      ],
      "execution_count": null,
      "outputs": []
    },
    {
      "cell_type": "code",
      "metadata": {
        "id": "gd8OjjrQvmY_"
      },
      "source": [
        "# define a function to calculate factorial\n",
        "def fac_cal(n,test_print=False):\n",
        "    result=1\n",
        "    for i in range(n):\n",
        "        result=result*(i+1)\n",
        "    if test_print:\n",
        "        print(\"the result is \",result)\n",
        "    return result\n",
        "m=int(input(\"give me an integer, I will give you the factorial \"))\n",
        "#res=fac_cal(m)\n",
        "res=fac_cal(m,test_print=True)\n",
        "print(m,\"!\",\"=\",res)\n",
        "## try res=fac_cal(test_print=True,m) Error: positional argument follows keyword argument"
      ],
      "execution_count": null,
      "outputs": []
    },
    {
      "cell_type": "code",
      "metadata": {
        "id": "uxBvBU9EuUPg"
      },
      "source": [
        "# eigenvalue problem\n",
        "import numpy as np\n",
        "H=np.array([[1,4,6],[4,2,5],[6,5,3]])\n",
        "w,v=np.linalg.eig(H)\n",
        "print(\"the eigenvalues are \",w)\n",
        "print(\"the eigenvectors are\")\n",
        "print(v)\n",
        "## get online to find a way to solve differetial equations! Find some webpages and learn something from it!"
      ],
      "execution_count": null,
      "outputs": []
    }
  ]
}