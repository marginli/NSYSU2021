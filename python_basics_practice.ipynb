{
  "nbformat": 4,
  "nbformat_minor": 0,
  "metadata": {
    "colab": {
      "name": "python-basics-practice.ipynb",
      "provenance": [],
      "authorship_tag": "ABX9TyOD3BzOxmNs79cgAXQB2SOx",
      "include_colab_link": true
    },
    "kernelspec": {
      "name": "python3",
      "display_name": "Python 3"
    },
    "language_info": {
      "name": "python"
    }
  },
  "cells": [
    {
      "cell_type": "markdown",
      "metadata": {
        "id": "view-in-github",
        "colab_type": "text"
      },
      "source": [
        "<a href=\"https://colab.research.google.com/github/marginli/NSYSU2021/blob/main/python_basics_practice.ipynb\" target=\"_parent\"><img src=\"https://colab.research.google.com/assets/colab-badge.svg\" alt=\"Open In Colab\"/></a>"
      ]
    },
    {
      "cell_type": "code",
      "metadata": {
        "id": "yhpXwC5yraun"
      },
      "source": [
        "from google.colab import drive\n",
        "drive.mount('/content/gdrive')"
      ],
      "execution_count": null,
      "outputs": []
    },
    {
      "cell_type": "code",
      "metadata": {
        "id": "T2pNM9VNtf80"
      },
      "source": [
        "# magnitude of a 3D vector\n",
        "x=1.0\n",
        "print(\"x component is\",x)\n",
        "y=2.0\n",
        "print(\"y component is\",y)\n",
        "z=3.0\n",
        "print(\"z component is\",z)\n",
        "r=pow(x**2+y**2+z**2,0.5)\n",
        "print(\"the magnitude of this vector is\",r)"
      ],
      "execution_count": null,
      "outputs": []
    },
    {
      "cell_type": "code",
      "metadata": {
        "id": "RL-bHtvMthba"
      },
      "source": [
        "## inner product\n",
        "import numpy as np\n",
        "r0=np.array([x,y,z])\n",
        "r1=np.array([3.0,2.0,1.0])\n",
        "inn_prod=np.dot(r0,r1)\n",
        "print(\"the inner product is \",inn_prod)"
      ],
      "execution_count": null,
      "outputs": []
    },
    {
      "cell_type": "code",
      "metadata": {
        "id": "bFlAOviutmPn"
      },
      "source": [
        "# moving right or left \n",
        "v=float(input(\"give me your velocity  :\"))\n",
        "if v>0:\n",
        "    print(\"moving right\")\n",
        "elif v<0:\n",
        "    print(\"moving left\")\n",
        "else :\n",
        "    print(\"not moving\")"
      ],
      "execution_count": null,
      "outputs": []
    },
    {
      "cell_type": "code",
      "metadata": {
        "id": "6CuUYL15tvOS"
      },
      "source": [
        "## if + and : try vm=11,5,1. we can also try \"or\"\n",
        "vm=abs(float(input(\"tell me your velocity (m/s)  :\")))\n",
        "if vm>10 :\n",
        "    print(\"See you in the Olympics !!\")\n",
        "elif vm<=10 and vm>2:\n",
        "    print(\"You are running !!\")\n",
        "else :\n",
        "    print(\"Move faster!!\")"
      ],
      "execution_count": null,
      "outputs": []
    },
    {
      "cell_type": "code",
      "metadata": {
        "id": "iy-gXhdzt2Kv"
      },
      "source": [
        "# moving or not moving\n",
        "from numpy.random import random\n",
        "force=0.0\n",
        "ran_fric=random()\n",
        "mass=10.0\n",
        "while force<mass*ran_fric :\n",
        "    print(\"haha! you cannot move me!!\")\n",
        "    force_add=float(input(\"add some force!!\"))\n",
        "    force=force+force_add\n",
        "print(\"Ah... you win...\")\n",
        "print(\"the friction coefficient is :\",ran_fric)\n",
        "print(\"the estimated friction coefficient is :\",force/mass)"
      ],
      "execution_count": null,
      "outputs": []
    },
    {
      "cell_type": "code",
      "metadata": {
        "id": "YXOzZP8Qt9a1"
      },
      "source": [
        "##break\n",
        "from numpy.random import random\n",
        "force=0.0\n",
        "ran_fric=random()\n",
        "mass=10.0\n",
        "while force<mass*ran_fric :\n",
        "    print(\"haha! you cannot move me!!\")\n",
        "    force_add=float(input(\"add some force!!\"))\n",
        "    force=force+force_add\n",
        "    if force_add <0:\n",
        "        print(\"are you kidding me?\")\n",
        "        break\n",
        "if force_add>0:\n",
        "    print(\"Ah... you win...\")\n",
        "    print(\"the friction coefficient is :\",ran_fric)\n",
        "    print(\"the estimated friction coefficient is :\",force/mass)"
      ],
      "execution_count": null,
      "outputs": []
    },
    {
      "cell_type": "code",
      "metadata": {
        "id": "gl75l-gnuGS7"
      },
      "source": [
        "# calculating factorial\n",
        "n=int(input(\"give me an integer, I will give you the factorial \"))\n",
        "factorial=1\n",
        "for i in range(n):\n",
        "    factorial=factorial*(i+1)\n",
        "print(\"the value of\",n,\"!\",\"is\",factorial)"
      ],
      "execution_count": null,
      "outputs": []
    },
    {
      "cell_type": "code",
      "metadata": {
        "id": "pa92zb4GuMfC"
      },
      "source": [
        "## choose the integers to be multiplied\n",
        "your_list=[1,3,5,7,9]\n",
        "factorial_y=1\n",
        "for i1 in your_list:\n",
        "    factorial_y=factorial_y*i1\n",
        "print(\"the result is\",factorial_y)"
      ],
      "execution_count": null,
      "outputs": []
    },
    {
      "cell_type": "code",
      "metadata": {
        "id": "uxBvBU9EuUPg"
      },
      "source": [
        "# eigenvalue problem\n",
        "import numpy as np\n",
        "H=np.array([[1,4,6],[4,2,5],[6,5,3]])\n",
        "w,v=np.linalg.eig(H)\n",
        "print(\"the eigenvalues are \",w)\n",
        "print(\"the eigenvectors are\")\n",
        "print(v)\n",
        "## get online to find a way to solve differetial equations! Find some webpages and learn something from it!"
      ],
      "execution_count": null,
      "outputs": []
    },
    {
      "cell_type": "code",
      "metadata": {
        "id": "evgqtOw1ub6C"
      },
      "source": [
        "# load files\n",
        "import numpy as np\n",
        "ex_data=np.loadtxt(\"https://raw.githubusercontent.com/marginli/NSYSU2021/main/external_file.txt\") # loading txt files from an online URL\n",
        "#ex_data=np.loadtxt(\"external_file.txt\") #loading local txt files\n",
        "print(ex_data)\n",
        "## load a file from your google drive : see the ppt\n",
        "## the download link : https://drive.google.com/file/d/1vVhQwwrWLvXECi6Zo5csYSrTdvYkwfky/view?usp=sharing"
      ],
      "execution_count": null,
      "outputs": []
    },
    {
      "cell_type": "code",
      "metadata": {
        "id": "gd8OjjrQvmY_"
      },
      "source": [
        "# define a function to calculate factorial\n",
        "def fac_cal(n,test_print=False):\n",
        "    result=1\n",
        "    for i in range(n):\n",
        "        result=result*(i+1)\n",
        "    if test_print:\n",
        "        print(\"the result is \",result)\n",
        "    return result\n",
        "m=int(input(\"give me an integer, I will give you the factorial \"))\n",
        "#res=fac_cal(m)\n",
        "res=fac_cal(m,test_print=True)\n",
        "print(m,\"!\",\"=\",res)\n",
        "## try res=fac_cal(test_print=True,m) Error: positional argument follows keyword argument"
      ],
      "execution_count": null,
      "outputs": []
    }
  ]
}