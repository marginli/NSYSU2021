{
  "nbformat": 4,
  "nbformat_minor": 0,
  "metadata": {
    "colab": {
      "name": "Python_basics.ipynb",
      "provenance": [],
      "collapsed_sections": [],
      "authorship_tag": "ABX9TyMn2nSX9dscocsRPPMs/skW",
      "include_colab_link": true
    },
    "kernelspec": {
      "name": "python3",
      "display_name": "Python 3"
    },
    "language_info": {
      "name": "python"
    }
  },
  "cells": [
    {
      "cell_type": "markdown",
      "metadata": {
        "id": "view-in-github",
        "colab_type": "text"
      },
      "source": [
        "<a href=\"https://colab.research.google.com/github/marginli/NSYSU2021/blob/main/Python_basics.ipynb\" target=\"_parent\"><img src=\"https://colab.research.google.com/assets/colab-badge.svg\" alt=\"Open In Colab\"/></a>"
      ]
    },
    {
      "cell_type": "code",
      "metadata": {
        "id": "yL74RwzmOa12"
      },
      "source": [
        "# magnitude of a 3D vector"
      ],
      "execution_count": null,
      "outputs": []
    },
    {
      "cell_type": "code",
      "metadata": {
        "id": "Oqx7Cf0iPh1u"
      },
      "source": [
        "x=1.0\n",
        "print(\"x component is\",x)\n",
        "y=2.0\n",
        "print(\"y component is\",y)\n",
        "z=3.0\n",
        "print(\"z component is\",z)\n",
        "r=pow(x**2+y**2+z**2,0.5)\n",
        "print(\"the magnitude of this vector is\",r)"
      ],
      "execution_count": null,
      "outputs": []
    },
    {
      "cell_type": "code",
      "metadata": {
        "id": "zF6FQ7DGUChz"
      },
      "source": [
        "# moving right or left "
      ],
      "execution_count": null,
      "outputs": []
    },
    {
      "cell_type": "code",
      "metadata": {
        "id": "11DpPrBBUDV6"
      },
      "source": [
        "v=float(input(\"give me your velocity  :\"))\n",
        "if v>0:\n",
        "    print(\"moving right\")\n",
        "elif v<0:\n",
        "    print(\"moving left\")\n",
        "else :\n",
        "    print(\"not moving\")"
      ],
      "execution_count": null,
      "outputs": []
    },
    {
      "cell_type": "code",
      "metadata": {
        "id": "5dWFeqrxUG7s"
      },
      "source": [
        "# moving or not moving"
      ],
      "execution_count": null,
      "outputs": []
    },
    {
      "cell_type": "code",
      "metadata": {
        "id": "8bo8cMaCULwF"
      },
      "source": [
        "from numpy.random import random\n",
        "force=0.0\n",
        "ran_fric=random()\n",
        "mass=10.0\n",
        "while force<mass*ran_fric :\n",
        "    print(\"haha! you cannot move me!!\")\n",
        "    force_add=float(input(\"add some force!!\"))\n",
        "    force=force+force_add\n",
        "print(\"Ah... you win...\")\n",
        "print(\"the friction coefficient is :\",ran_fric)\n",
        "print(\"the estimated friction coefficient is :\",force/mass)"
      ],
      "execution_count": null,
      "outputs": []
    },
    {
      "cell_type": "code",
      "metadata": {
        "id": "LbBqXelYUOyD"
      },
      "source": [
        "# calculating factorial"
      ],
      "execution_count": null,
      "outputs": []
    },
    {
      "cell_type": "code",
      "metadata": {
        "id": "oDLho5ZbURaJ"
      },
      "source": [
        "n=int(input(\"give me an integer, I will give you the factorial\"))\n",
        "factorial=1\n",
        "for i in range(n):\n",
        "    factorial=factorial*(i+1)\n",
        "print(\"the value of\",n,\"!\",\"is\",factorial)"
      ],
      "execution_count": null,
      "outputs": []
    },
    {
      "cell_type": "code",
      "metadata": {
        "id": "pfnnbl_mUXkR"
      },
      "source": [
        "# eigenvalue problem"
      ],
      "execution_count": null,
      "outputs": []
    },
    {
      "cell_type": "code",
      "metadata": {
        "id": "bHE83sRYUa7z"
      },
      "source": [
        "import numpy as np\n",
        "H=np.array([[1,4,6],[4,2,5],[6,5,3]])\n",
        "w,v=np.linalg.eig(H)\n",
        "print(\"the eigenvalues are \",w)\n",
        "print(\"the eigenvectors are\")\n",
        "print(v)"
      ],
      "execution_count": null,
      "outputs": []
    },
    {
      "cell_type": "code",
      "metadata": {
        "id": "1udXWaWzhh8P"
      },
      "source": [
        "# load files"
      ],
      "execution_count": null,
      "outputs": []
    },
    {
      "cell_type": "code",
      "metadata": {
        "id": "V6ETRsC5hoG6"
      },
      "source": [
        "import numpy as np\n",
        "ex_data=np.loadtxt(\"https://raw.githubusercontent.com/marginli/NSYSU2021/main/external_file.txt\") # loading txt files from an online URL\n",
        "#ex_data=np.loadtxt(\"external_file.txt\") #loading local txt files\n",
        "print(ex_data)"
      ],
      "execution_count": null,
      "outputs": []
    },
    {
      "cell_type": "code",
      "metadata": {
        "id": "tfAgMiLTh0O1"
      },
      "source": [
        "# define a function to calculate factorial"
      ],
      "execution_count": null,
      "outputs": []
    },
    {
      "cell_type": "code",
      "metadata": {
        "id": "O2DInpEEiB_d"
      },
      "source": [
        "def fac_cal(n):\n",
        "    result=1\n",
        "    for i in range(n):\n",
        "        result=result*(i+1)\n",
        "    return result\n",
        "m=int(input(\"give me an integer, I will give you the factorial \"))\n",
        "res=fac_cal(m)\n",
        "print(m,\"!\",\"=\",res)"
      ],
      "execution_count": null,
      "outputs": []
    }
  ]
}