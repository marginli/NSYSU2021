{
  "nbformat": 4,
  "nbformat_minor": 0,
  "metadata": {
    "colab": {
      "name": "Python_basics.ipynb",
      "provenance": [],
      "collapsed_sections": [],
      "authorship_tag": "ABX9TyMn2nSX9dscocsRPPMs/skW",
      "include_colab_link": true
    },
    "kernelspec": {
      "name": "python3",
      "display_name": "Python 3"
    },
    "language_info": {
      "name": "python"
    }
  },
  "cells": [
    {
      "cell_type": "markdown",
      "metadata": {
        "id": "view-in-github",
        "colab_type": "text"
      },
      "source": [
        "<a href=\"https://colab.research.google.com/github/marginli/NSYSU2021/blob/main/Python_basics.ipynb\" target=\"_parent\"><img src=\"https://colab.research.google.com/assets/colab-badge.svg\" alt=\"Open In Colab\"/></a>"
      ]
    },
    {
      "cell_type": "code",
      "metadata": {
        "id": "yL74RwzmOa12"
      },
      "source": [
        "# magnitude of a 3D vector"
      ],
      "execution_count": null,
      "outputs": []
    },
    {
      "cell_type": "code",
      "metadata": {
        "colab": {
          "base_uri": "https://localhost:8080/"
        },
        "id": "Oqx7Cf0iPh1u",
        "outputId": "29f22ecc-ded2-4bf5-c3cf-860a946051b2"
      },
      "source": [
        "x=1.0\n",
        "print(\"x component is\",x)\n",
        "y=2.0\n",
        "print(\"y component is\",y)\n",
        "z=3.0\n",
        "print(\"z component is\",z)\n",
        "r=pow(x**2+y**2+z**2,0.5)\n",
        "print(\"the magnitude of this vector is\",r)"
      ],
      "execution_count": 20,
      "outputs": [
        {
          "output_type": "stream",
          "name": "stdout",
          "text": [
            "x component is 1.0\n",
            "y component is 2.0\n",
            "z component is 3.0\n",
            "the magnitude of this vector is 3.7416573867739413\n"
          ]
        }
      ]
    },
    {
      "cell_type": "code",
      "metadata": {
        "id": "zF6FQ7DGUChz"
      },
      "source": [
        "# moving right or left "
      ],
      "execution_count": null,
      "outputs": []
    },
    {
      "cell_type": "code",
      "metadata": {
        "colab": {
          "base_uri": "https://localhost:8080/"
        },
        "id": "11DpPrBBUDV6",
        "outputId": "04f438ec-93c6-45e0-9aeb-2798e91464ff"
      },
      "source": [
        "v=float(input(\"give me your velocity  :\"))\n",
        "if v>0:\n",
        "    print(\"moving right\")\n",
        "elif v<0:\n",
        "    print(\"moving left\")\n",
        "else :\n",
        "    print(\"not moving\")"
      ],
      "execution_count": 22,
      "outputs": [
        {
          "output_type": "stream",
          "name": "stdout",
          "text": [
            "give me your velocity  :-9\n",
            "moving left\n"
          ]
        }
      ]
    },
    {
      "cell_type": "code",
      "metadata": {
        "id": "5dWFeqrxUG7s"
      },
      "source": [
        "# moving or not moving"
      ],
      "execution_count": null,
      "outputs": []
    },
    {
      "cell_type": "code",
      "metadata": {
        "colab": {
          "base_uri": "https://localhost:8080/"
        },
        "id": "8bo8cMaCULwF",
        "outputId": "16c2f66f-cc52-4e20-fd44-73ffa367b1d4"
      },
      "source": [
        "from numpy.random import random\n",
        "force=0.0\n",
        "ran_fric=random()\n",
        "mass=10.0\n",
        "while force<mass*ran_fric :\n",
        "    print(\"haha! you cannot move me!!\")\n",
        "    force_add=float(input(\"add some force!!\"))\n",
        "    force=force+force_add\n",
        "print(\"Ah... you win...\")\n",
        "print(\"the friction coefficient is :\",ran_fric)\n",
        "print(\"the estimated friction coefficient is :\",force/mass)"
      ],
      "execution_count": 23,
      "outputs": [
        {
          "output_type": "stream",
          "name": "stdout",
          "text": [
            "haha! you cannot move me!!\n",
            "add some force!!1\n",
            "Ah... you win...\n",
            "the friction coefficient is : 0.02068305996845432\n",
            "the estimated friction coefficient is : 0.1\n"
          ]
        }
      ]
    },
    {
      "cell_type": "code",
      "metadata": {
        "id": "LbBqXelYUOyD"
      },
      "source": [
        "# calculating factorial"
      ],
      "execution_count": null,
      "outputs": []
    },
    {
      "cell_type": "code",
      "metadata": {
        "colab": {
          "base_uri": "https://localhost:8080/"
        },
        "id": "oDLho5ZbURaJ",
        "outputId": "bc256078-e757-4a7c-edb1-51d0ee59f917"
      },
      "source": [
        "n=int(input(\"give me an integer, I will give you the factorial\"))\n",
        "factorial=1\n",
        "for i in range(n):\n",
        "    factorial=factorial*(i+1)\n",
        "print(\"the value of\",n,\"!\",\"is\",factorial)"
      ],
      "execution_count": 25,
      "outputs": [
        {
          "output_type": "stream",
          "name": "stdout",
          "text": [
            "give me an integer, I will give you the factorial5\n",
            "the value of 5 ! is 120\n"
          ]
        }
      ]
    },
    {
      "cell_type": "code",
      "metadata": {
        "id": "pfnnbl_mUXkR"
      },
      "source": [
        "# eigenvalue problem"
      ],
      "execution_count": null,
      "outputs": []
    },
    {
      "cell_type": "code",
      "metadata": {
        "colab": {
          "base_uri": "https://localhost:8080/"
        },
        "id": "bHE83sRYUa7z",
        "outputId": "b3c44298-edc5-45c1-e31f-ff919decb342"
      },
      "source": [
        "import numpy as np\n",
        "H=np.array([[1,4,6],[4,2,5],[6,5,3]])\n",
        "w,v=np.linalg.eig(H)\n",
        "print(\"the eigenvalues are \",w)\n",
        "print(\"the eigenvectors are\")\n",
        "print(v)"
      ],
      "execution_count": 26,
      "outputs": [
        {
          "output_type": "stream",
          "name": "stdout",
          "text": [
            "the eigenvalues are  [12.12839341 -4.09460205 -2.03379136]\n",
            "the eigenvectors are\n",
            "[[-0.54185054 -0.73860675  0.40107113]\n",
            " [-0.53428068 -0.06566881 -0.84275249]\n",
            " [-0.64880055  0.67093045  0.35904064]]\n"
          ]
        }
      ]
    },
    {
      "cell_type": "code",
      "metadata": {
        "id": "1udXWaWzhh8P"
      },
      "source": [
        "# load files"
      ],
      "execution_count": null,
      "outputs": []
    },
    {
      "cell_type": "code",
      "metadata": {
        "colab": {
          "base_uri": "https://localhost:8080/"
        },
        "id": "V6ETRsC5hoG6",
        "outputId": "084d8125-7722-4ed2-cb89-76f3ee49bfab"
      },
      "source": [
        "import numpy as np\n",
        "ex_data=np.loadtxt(\"https://raw.githubusercontent.com/marginli/NSYSU2021/main/external_file.txt\") # loading txt files from an online URL\n",
        "#ex_data=np.loadtxt(\"external_file.txt\") #loading local txt files\n",
        "print(ex_data)"
      ],
      "execution_count": 19,
      "outputs": [
        {
          "output_type": "stream",
          "name": "stdout",
          "text": [
            "[[0.0361525 0.0361525 0.0261422 0.0261422]\n",
            " [0.0261422 0.0261422 0.0235028 0.0235028]\n",
            " [0.0235028 0.0235028 0.0307595 0.0307595]\n",
            " [0.0307595 0.0307595 0.0285627 0.0285627]\n",
            " [0.0285627 0.0285627 0.0307596 0.0307596]\n",
            " [0.0307596 0.0307596 0.0235044 0.0235044]\n",
            " [0.0235044 0.0235044 0.0261397 0.0261397]\n",
            " [0.0261397 0.0261397 0.0361525 0.0361525]\n",
            " [0.0361525 0.0361525 0.0261428 0.0261428]\n",
            " [0.0261428 0.0261428 0.0235023 0.0235023]\n",
            " [0.0235023 0.0235023 0.0307594 0.0307594]\n",
            " [0.0307594 0.0307594 0.0285629 0.0285629]\n",
            " [0.0285629 0.0285629 0.0307595 0.0307595]\n",
            " [0.0307595 0.0307595 0.0235039 0.0235039]\n",
            " [0.0235039 0.0235039 0.0261402 0.0261402]\n",
            " [0.0261402 0.0261402 0.0361525 0.0361525]\n",
            " [0.0361525 0.0361525 0.0261422 0.0261422]\n",
            " [0.0261422 0.0261422 0.0235028 0.0235028]\n",
            " [0.0235028 0.0235028 0.0307595 0.0307595]\n",
            " [0.0307595 0.0307595 0.0285627 0.0285627]\n",
            " [0.0285627 0.0285627 0.0307596 0.0307596]\n",
            " [0.0307596 0.0307596 0.0235044 0.0235044]\n",
            " [0.0235044 0.0235044 0.0261397 0.0261397]\n",
            " [0.0261397 0.0261397 0.0361525 0.0361525]\n",
            " [0.0361525 0.0361525 0.0261428 0.0261428]\n",
            " [0.0261428 0.0261428 0.0235023 0.0235023]\n",
            " [0.0235023 0.0235023 0.0307594 0.0307594]\n",
            " [0.0307594 0.0307594 0.0285629 0.0285629]\n",
            " [0.0285629 0.0285629 0.0307595 0.0307595]\n",
            " [0.0307595 0.0307595 0.0235039 0.0235039]\n",
            " [0.0235039 0.0235039 0.0261402 0.0261402]\n",
            " [0.0261402 0.0261402 0.0361525 0.0361525]]\n"
          ]
        }
      ]
    },
    {
      "cell_type": "code",
      "metadata": {
        "id": "tfAgMiLTh0O1"
      },
      "source": [
        "# define a function to calculate factorial"
      ],
      "execution_count": null,
      "outputs": []
    },
    {
      "cell_type": "code",
      "metadata": {
        "colab": {
          "base_uri": "https://localhost:8080/"
        },
        "id": "O2DInpEEiB_d",
        "outputId": "ce09a7da-23ef-4762-b59c-2babb5865803"
      },
      "source": [
        "def fac_cal(n):\n",
        "    result=1\n",
        "    for i in range(n):\n",
        "        result=result*(i+1)\n",
        "    return result\n",
        "m=int(input(\"give me an integer, I will give you the factorial \"))\n",
        "res=fac_cal(m)\n",
        "print(m,\"!\",\"=\",res)"
      ],
      "execution_count": 28,
      "outputs": [
        {
          "output_type": "stream",
          "name": "stdout",
          "text": [
            "give me an integer, I will give you the factorial6\n",
            "6 ! = 720\n"
          ]
        }
      ]
    }
  ]
}