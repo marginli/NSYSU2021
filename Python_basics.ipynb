{
  "nbformat": 4,
  "nbformat_minor": 0,
  "metadata": {
    "colab": {
      "name": "Python_basics.ipynb",
      "provenance": [],
      "collapsed_sections": [],
      "authorship_tag": "ABX9TyNbYV/mi73UsM7N0p4mRs0S",
      "include_colab_link": true
    },
    "kernelspec": {
      "name": "python3",
      "display_name": "Python 3"
    },
    "language_info": {
      "name": "python"
    }
  },
  "cells": [
    {
      "cell_type": "markdown",
      "metadata": {
        "id": "view-in-github",
        "colab_type": "text"
      },
      "source": [
        "<a href=\"https://colab.research.google.com/github/marginli/NSYSU2021/blob/main/Python_basics.ipynb\" target=\"_parent\"><img src=\"https://colab.research.google.com/assets/colab-badge.svg\" alt=\"Open In Colab\"/></a>"
      ]
    },
    {
      "cell_type": "code",
      "metadata": {
        "id": "yL74RwzmOa12"
      },
      "source": [
        "# magnitude of a 3D vector"
      ],
      "execution_count": null,
      "outputs": []
    },
    {
      "cell_type": "code",
      "metadata": {
        "colab": {
          "base_uri": "https://localhost:8080/"
        },
        "id": "Oqx7Cf0iPh1u",
        "outputId": "c80d5928-39ed-465e-f760-c3cc77183e14"
      },
      "source": [
        "x=1.0\n",
        "print(\"x component is\",x)\n",
        "y=2.0\n",
        "print(\"y component is\",y)\n",
        "z=3.0\n",
        "print(\"z component is\",z)\n",
        "r=pow(x**2+y**2+z**2,0.5)\n",
        "print(\"the magnitude of this vector is\",r)"
      ],
      "execution_count": null,
      "outputs": [
        {
          "output_type": "stream",
          "name": "stdout",
          "text": [
            "x component is 1.0\n",
            "y component is 2.0\n",
            "z component is 3.0\n",
            "the magnitude of this vector is 3.7416573867739413\n"
          ]
        }
      ]
    },
    {
      "cell_type": "code",
      "metadata": {
        "id": "zF6FQ7DGUChz"
      },
      "source": [
        "# moving right or left "
      ],
      "execution_count": null,
      "outputs": []
    },
    {
      "cell_type": "code",
      "metadata": {
        "id": "11DpPrBBUDV6"
      },
      "source": [
        "v=float(input(\"give me your velocity  :\"))\n",
        "if v>0:\n",
        "    print(\"moving right\")\n",
        "elif v<0:\n",
        "    print(\"moving left\")\n",
        "else :\n",
        "    print(\"not moving\")"
      ],
      "execution_count": null,
      "outputs": []
    },
    {
      "cell_type": "code",
      "metadata": {
        "id": "5dWFeqrxUG7s"
      },
      "source": [
        "# moving or not moving"
      ],
      "execution_count": null,
      "outputs": []
    },
    {
      "cell_type": "code",
      "metadata": {
        "id": "8bo8cMaCULwF"
      },
      "source": [
        "from numpy.random import random\n",
        "force=0.0\n",
        "ran_fric=random()\n",
        "mass=10.0\n",
        "while force<mass*ran_fric :\n",
        "    print(\"haha! you cannot move me!!\")\n",
        "    force_add=float(input(\"add some force!!\"))\n",
        "    force=force+force_add\n",
        "print(\"Ah... you win...\")\n",
        "print(\"the friction coefficient is :\",ran_fric)\n",
        "print(\"the estimated friction coefficient is :\",force/mass)"
      ],
      "execution_count": null,
      "outputs": []
    },
    {
      "cell_type": "code",
      "metadata": {
        "id": "LbBqXelYUOyD"
      },
      "source": [
        "# calculating factorial"
      ],
      "execution_count": null,
      "outputs": []
    },
    {
      "cell_type": "code",
      "metadata": {
        "id": "oDLho5ZbURaJ"
      },
      "source": [
        "n=int(input(\"give me an integer, I will give you the factorial\"))\n",
        "factorial=1\n",
        "for i in range(n):\n",
        "    factorial=factorial*(i+1)\n",
        "print(\"the value of\",n,\"!\",\"is\",factorial)"
      ],
      "execution_count": null,
      "outputs": []
    },
    {
      "cell_type": "code",
      "metadata": {
        "id": "pfnnbl_mUXkR"
      },
      "source": [
        "# eigenvalue problem"
      ],
      "execution_count": null,
      "outputs": []
    },
    {
      "cell_type": "code",
      "metadata": {
        "id": "bHE83sRYUa7z"
      },
      "source": [
        "import numpy as np\n",
        "H=np.array([[1,4,6],[4,2,5],[6,5,3]])\n",
        "w,v=np.linalg.eig(H)\n",
        "print(\"the eigenvalues are \",w)\n",
        "print(\"the eigenvectors are\")\n",
        "print(v)"
      ],
      "execution_count": null,
      "outputs": []
    },
    {
      "cell_type": "code",
      "metadata": {
        "id": "ZZdgKOXQUd5y"
      },
      "source": [
        "# load files"
      ],
      "execution_count": null,
      "outputs": []
    },
    {
      "cell_type": "code",
      "metadata": {
        "id": "xHDCeEbdUhqd"
      },
      "source": [
        "import numpy as np\n",
        "ex_data=np.loadtxt(\"external_file.txt\")\n",
        "print(ex_data)"
      ],
      "execution_count": null,
      "outputs": []
    },
    {
      "cell_type": "code",
      "metadata": {
        "id": "ThGo-5nrUlC9"
      },
      "source": [
        "# define a function to calculate factorial"
      ],
      "execution_count": null,
      "outputs": []
    },
    {
      "cell_type": "code",
      "metadata": {
        "id": "yKu1BUaVUnxH"
      },
      "source": [
        "def fac_cal(n):\n",
        "    result=1\n",
        "    for i in range(n):\n",
        "        result=result*(i+1)\n",
        "    return result\n",
        "m=5\n",
        "res=fac_cal(m)\n",
        "print(m,\"!\",\"=\",res)"
      ],
      "execution_count": null,
      "outputs": []
    }
  ]
}