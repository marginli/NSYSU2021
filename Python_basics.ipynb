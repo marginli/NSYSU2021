{
  "nbformat": 4,
  "nbformat_minor": 0,
  "metadata": {
    "colab": {
      "name": "Python_basics.ipynb",
      "provenance": [],
      "collapsed_sections": [],
      "authorship_tag": "ABX9TyPQ151Ip8aHOAmzJOeGfQWI",
      "include_colab_link": true
    },
    "kernelspec": {
      "name": "python3",
      "display_name": "Python 3"
    },
    "language_info": {
      "name": "python"
    }
  },
  "cells": [
    {
      "cell_type": "markdown",
      "metadata": {
        "id": "view-in-github",
        "colab_type": "text"
      },
      "source": [
        "<a href=\"https://colab.research.google.com/github/marginli/NSYSU2021/blob/main/Python_basics.ipynb\" target=\"_parent\"><img src=\"https://colab.research.google.com/assets/colab-badge.svg\" alt=\"Open In Colab\"/></a>"
      ]
    },
    {
      "cell_type": "code",
      "metadata": {
        "id": "yL74RwzmOa12"
      },
      "source": [
        "# magnitude of a 3D vector"
      ],
      "execution_count": null,
      "outputs": []
    },
    {
      "cell_type": "code",
      "metadata": {
        "colab": {
          "base_uri": "https://localhost:8080/"
        },
        "id": "Oqx7Cf0iPh1u",
        "outputId": "c80d5928-39ed-465e-f760-c3cc77183e14"
      },
      "source": [
        "x=1.0\n",
        "print(\"x component is\",x)\n",
        "y=2.0\n",
        "print(\"y component is\",y)\n",
        "z=3.0\n",
        "print(\"z component is\",z)\n",
        "r=pow(x**2+y**2+z**2,0.5)\n",
        "print(\"the magnitude of this vector is\",r)"
      ],
      "execution_count": null,
      "outputs": [
        {
          "output_type": "stream",
          "name": "stdout",
          "text": [
            "x component is 1.0\n",
            "y component is 2.0\n",
            "z component is 3.0\n",
            "the magnitude of this vector is 3.7416573867739413\n"
          ]
        }
      ]
    },
    {
      "cell_type": "markdown",
      "metadata": {
        "id": "ZPWMs7PyPebL"
      },
      "source": [
        ""
      ]
    }
  ]
}